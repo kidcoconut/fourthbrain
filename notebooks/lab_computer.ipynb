{
 "cells": [
  {
   "cell_type": "markdown",
   "metadata": {},
   "source": [
    "# Welcome to the Police Station Lab Computer\n",
    "\n",
    "Let's use the computer, and the data it contains, to see if we can't crack this mystery."
   ]
  },
  {
   "cell_type": "markdown",
   "metadata": {},
   "source": [
    "## First Visit"
   ]
  },
  {
   "cell_type": "markdown",
   "metadata": {},
   "source": [
    "### Gathering Information on Addresses to interview the person who left before the gunshots were heard!\n",
    "\n",
    "First thing to do, is load up the people `.csv` - we'll notice that it's separated by tabs (`\\t`) and there's some comments (`#`), so let's take those into consideration. \n",
    "\n",
    "Then, let's look at the `.head()`!"
   ]
  },
  {
   "cell_type": "markdown",
   "metadata": {},
   "source": [
    "### Summary of CLUES found in crimescene branch\n",
    "    CLUE: Footage from an ATM security camera is blurry but shows that \n",
    "    - the perpetrator is a tall male, at least 6'.\n",
    "\n",
    "    CLUE: Found a wallet believed to belong to the killer: \n",
    "    - no ID, \n",
    "    - just loose change, and \n",
    "    - membership cards for AAA, Delta SkyMiles, the local library, and the Museum of Bash History. \n",
    "    - The cards are totally untraceable and have no name, for some reason.\n",
    "\n",
    "    CLUE: Questioned the barista at the local coffee shop. \n",
    "    - He said a woman left right before they heard the shots. \n",
    "    - The name on her latte was Annabel, \n",
    "    - she had blond spiky hair and a New Zealand accent.\n",
    "\n",
    "### Objective:  interview the person who left before the gunshots"
   ]
  },
  {
   "cell_type": "code",
   "execution_count": 6,
   "metadata": {},
   "outputs": [
    {
     "name": "stdout",
     "output_type": "stream",
     "text": [
      "/home/kidcoconut/myLurnins/fourthbrain.ai/code/whodunit\r\n"
     ]
    }
   ],
   "source": [
    "#--- check pwd\n",
    "!pwd"
   ]
  },
  {
   "cell_type": "code",
   "execution_count": 2,
   "metadata": {},
   "outputs": [
    {
     "name": "stdout",
     "output_type": "stream",
     "text": [
      "/home/kidcoconut/myLurnins/fourthbrain.ai/code/whodunit\n"
     ]
    }
   ],
   "source": [
    "#--- ensure we are in the root project folder\n",
    "%cd .."
   ]
  },
  {
   "cell_type": "code",
   "execution_count": 7,
   "metadata": {},
   "outputs": [
    {
     "data": {
      "text/html": [
       "<div>\n",
       "<style scoped>\n",
       "    .dataframe tbody tr th:only-of-type {\n",
       "        vertical-align: middle;\n",
       "    }\n",
       "\n",
       "    .dataframe tbody tr th {\n",
       "        vertical-align: top;\n",
       "    }\n",
       "\n",
       "    .dataframe thead th {\n",
       "        text-align: right;\n",
       "    }\n",
       "</style>\n",
       "<table border=\"1\" class=\"dataframe\">\n",
       "  <thead>\n",
       "    <tr style=\"text-align: right;\">\n",
       "      <th></th>\n",
       "      <th>name</th>\n",
       "      <th>gender</th>\n",
       "      <th>age</th>\n",
       "      <th>address</th>\n",
       "    </tr>\n",
       "  </thead>\n",
       "  <tbody>\n",
       "    <tr>\n",
       "      <th>0</th>\n",
       "      <td>Alicia Fuentes</td>\n",
       "      <td>F</td>\n",
       "      <td>48</td>\n",
       "      <td>Walton Street, line 433</td>\n",
       "    </tr>\n",
       "    <tr>\n",
       "      <th>1</th>\n",
       "      <td>Jo-Ting Losev</td>\n",
       "      <td>F</td>\n",
       "      <td>46</td>\n",
       "      <td>Hemenway Street, line 390</td>\n",
       "    </tr>\n",
       "    <tr>\n",
       "      <th>2</th>\n",
       "      <td>Elena Edmonds</td>\n",
       "      <td>F</td>\n",
       "      <td>58</td>\n",
       "      <td>Elmwood Avenue, line 123</td>\n",
       "    </tr>\n",
       "    <tr>\n",
       "      <th>3</th>\n",
       "      <td>Naydene Cabral</td>\n",
       "      <td>F</td>\n",
       "      <td>46</td>\n",
       "      <td>Winthrop Street, line 454</td>\n",
       "    </tr>\n",
       "    <tr>\n",
       "      <th>4</th>\n",
       "      <td>Dato Rosengren</td>\n",
       "      <td>M</td>\n",
       "      <td>22</td>\n",
       "      <td>Mystic Street, line 477</td>\n",
       "    </tr>\n",
       "  </tbody>\n",
       "</table>\n",
       "</div>"
      ],
      "text/plain": [
       "             name gender  age                    address\n",
       "0  Alicia Fuentes      F   48    Walton Street, line 433\n",
       "1   Jo-Ting Losev      F   46  Hemenway Street, line 390\n",
       "2   Elena Edmonds      F   58   Elmwood Avenue, line 123\n",
       "3  Naydene Cabral      F   46  Winthrop Street, line 454\n",
       "4  Dato Rosengren      M   22    Mystic Street, line 477"
      ]
     },
     "execution_count": 7,
     "metadata": {},
     "output_type": "execute_result"
    }
   ],
   "source": [
    "import pandas as pd\n",
    "\n",
    "people_dataframe = pd.read_csv('./data/people/people.csv', comment='#', sep='\\t')\n",
    "people_dataframe.head()"
   ]
  },
  {
   "cell_type": "markdown",
   "metadata": {},
   "source": [
    "Let's use some indexing to find out if we can narrow this list down!"
   ]
  },
  {
   "cell_type": "code",
   "execution_count": 8,
   "metadata": {},
   "outputs": [
    {
     "data": {
      "text/html": [
       "<div>\n",
       "<style scoped>\n",
       "    .dataframe tbody tr th:only-of-type {\n",
       "        vertical-align: middle;\n",
       "    }\n",
       "\n",
       "    .dataframe tbody tr th {\n",
       "        vertical-align: top;\n",
       "    }\n",
       "\n",
       "    .dataframe thead th {\n",
       "        text-align: right;\n",
       "    }\n",
       "</style>\n",
       "<table border=\"1\" class=\"dataframe\">\n",
       "  <thead>\n",
       "    <tr style=\"text-align: right;\">\n",
       "      <th></th>\n",
       "      <th>name</th>\n",
       "      <th>gender</th>\n",
       "      <th>age</th>\n",
       "      <th>address</th>\n",
       "    </tr>\n",
       "  </thead>\n",
       "  <tbody>\n",
       "    <tr>\n",
       "      <th>269</th>\n",
       "      <td>Annabel Sun</td>\n",
       "      <td>F</td>\n",
       "      <td>26</td>\n",
       "      <td>Hart Place, line 40</td>\n",
       "    </tr>\n",
       "    <tr>\n",
       "      <th>1661</th>\n",
       "      <td>Annabel Church</td>\n",
       "      <td>F</td>\n",
       "      <td>38</td>\n",
       "      <td>Buckingham Place, line 179</td>\n",
       "    </tr>\n",
       "  </tbody>\n",
       "</table>\n",
       "</div>"
      ],
      "text/plain": [
       "                name gender  age                     address\n",
       "269      Annabel Sun      F   26         Hart Place, line 40\n",
       "1661  Annabel Church      F   38  Buckingham Place, line 179"
      ]
     },
     "execution_count": 8,
     "metadata": {},
     "output_type": "execute_result"
    }
   ],
   "source": [
    "### START CODE HERE ###\n",
    "\n",
    "# be sure to include the information in the format provided from the DataFrame above!\n",
    "#--- find all interviewees where name contains 'Annabel' and gender is 'F'\n",
    "potential_interviewees = people_dataframe[(people_dataframe['name'].str.contains('Annabel')) & (people_dataframe['gender'] == 'F')]\n",
    "\n",
    "### END CODE HERE ###\n",
    "\n",
    "potential_interviewees.head()"
   ]
  },
  {
   "cell_type": "markdown",
   "metadata": {},
   "source": [
    "### Time for more investigation!\n",
    "\n",
    "You'll need to hit the streets before you can pull up any relevant interviews, come back when you've knocked on the doors on the addresses you found!\n",
    "\n",
    "\n",
    "\n",
    "    #--- Strategy:  I need to be able to manage the notebook, and data in one branch ... main\n",
    "\n",
    "\n",
    "    #--- Police-Station Prereqs:  for analyzing data, and updating jupyter notebook in one place ...\n",
    "    - checked out the police-station branch;  merged the notebook into main/notebooks\n",
    "\n",
    "\n",
    "    #--- Streets Prereqs:  \n",
    "    - checkout the streets branch;  merge addresses into main/data/streets\n",
    "    \n",
    "    \n",
    "    #--- Streets Objective:  hit the streets;  visit the addresses found\n",
    "    - cd ./data/streets\n",
    "    - head -h | tail -t\n",
    "    - head -40 Hart_* | tail -1:  SEE INTERVIEW #47246024\n",
    "    - head -179 Buckingham_* | tail -1:  SEE INTERVIEW #699607\n",
    "\n",
    "\n",
    "    #--- Interview Prereqs:\n",
    "    - checked out the interviews branch;  merged into main/data/interviews\n"
   ]
  },
  {
   "cell_type": "markdown",
   "metadata": {},
   "source": [
    "## Second Visit"
   ]
  },
  {
   "cell_type": "markdown",
   "metadata": {},
   "source": [
    "### Checking out the interviews\n",
    "\n",
    "Now that you have the interviews you want to check out, let's see what they say!\n",
    "\n",
    "We'll use the `glob`, and `os` standard library to collect all the data together into a usable format"
   ]
  },
  {
   "cell_type": "code",
   "execution_count": 8,
   "metadata": {},
   "outputs": [
    {
     "data": {
      "text/plain": [
       "'/home/kidcoconut/myLurnins/fourthbrain.ai/code/whodunit'"
      ]
     },
     "execution_count": 8,
     "metadata": {},
     "output_type": "execute_result"
    }
   ],
   "source": [
    "pwd"
   ]
  },
  {
   "cell_type": "code",
   "execution_count": 13,
   "metadata": {},
   "outputs": [
    {
     "name": "stdout",
     "output_type": "stream",
     "text": [
      "TRACE:  got file match pattern for glob;   ./data/interviews/* \n",
      "\n"
     ]
    }
   ],
   "source": [
    "import os \n",
    "import glob\n",
    "\n",
    "strPattern = os.path.join('./data/interviews/', '*')\n",
    "print(\"TRACE:  got file match pattern for glob;  \", strPattern, \"\\n\")\n",
    "\n",
    "\n",
    "aryFiles = glob.glob(strPattern)\n",
    "#print(aryFiles)\n"
   ]
  },
  {
   "cell_type": "markdown",
   "metadata": {},
   "source": [
    "Now that we've collected the files neatly, let's comb through them looking for the interviews we want to check!"
   ]
  },
  {
   "cell_type": "code",
   "execution_count": 28,
   "metadata": {},
   "outputs": [
    {
     "name": "stdout",
     "output_type": "stream",
     "text": [
      "---- Interview # { 699607 } ----\n",
      "Interviewed Ms. Church at 2:04 pm.  Witness stated that she did not see anyone she could identify as the shooter, that she ran away as soon as the shots were fired.\n",
      "\n",
      "However, she reports seeing the car that fled the scene.  Describes it as a blue Honda, with a license plate that starts with \"L337\" and ends with \"9\"\n",
      "\n",
      "\n",
      "\n",
      "---- Interview # { 47246024 } ----\n",
      "Ms. Sun has brown hair and is not from New Zealand.  Not the witness from the cafe.\n",
      "\n",
      "\n",
      "\n"
     ]
    }
   ],
   "source": [
    "### START CODE HERE ###\n",
    "\n",
    "interview_nums = [\n",
    "    \"47246024\", \"699607\",\n",
    "]\n",
    "\n",
    "### END CODE HERE ###\n",
    "\n",
    "for strFile in aryFiles:\n",
    "    strInterviewNum = strFile.split('-')[1]\n",
    "    #print(strInterviewNum)\n",
    "    if strInterviewNum in interview_nums:\n",
    "        with open(strFile, 'r') as filTemp:\n",
    "            print('---- Interview # {', strInterviewNum, '} ----')\n",
    "            print(filTemp.read())\n",
    "            print('\\n')"
   ]
  },
  {
   "cell_type": "markdown",
   "metadata": {},
   "source": [
    "Let's take note of that information, and check the vehicle database to see if we can find a suspect!"
   ]
  },
  {
   "cell_type": "markdown",
   "metadata": {},
   "source": [
    "### Checking the Vehicle Database\n",
    "\n",
    "Now that we have some more information, we should be able to put the facts we've figured out thusfar together to get a suspect!\n",
    "\n",
    "Let's start by looking through the vehicle data!\n",
    "\n",
    "\n",
    "    #--- Vehicle Prereqs: ...\n",
    "    - checked out the police-station branch;  merge data/vehicles/vehicles.csv into main\n",
    "    "
   ]
  },
  {
   "cell_type": "code",
   "execution_count": 9,
   "metadata": {},
   "outputs": [
    {
     "data": {
      "text/html": [
       "<div>\n",
       "<style scoped>\n",
       "    .dataframe tbody tr th:only-of-type {\n",
       "        vertical-align: middle;\n",
       "    }\n",
       "\n",
       "    .dataframe tbody tr th {\n",
       "        vertical-align: top;\n",
       "    }\n",
       "\n",
       "    .dataframe thead th {\n",
       "        text-align: right;\n",
       "    }\n",
       "</style>\n",
       "<table border=\"1\" class=\"dataframe\">\n",
       "  <thead>\n",
       "    <tr style=\"text-align: right;\">\n",
       "      <th></th>\n",
       "      <th>License Plate</th>\n",
       "      <th>Make</th>\n",
       "      <th>Color</th>\n",
       "      <th>Owner</th>\n",
       "      <th>Owner Height</th>\n",
       "      <th>Owner Weight (lbs.)</th>\n",
       "    </tr>\n",
       "  </thead>\n",
       "  <tbody>\n",
       "    <tr>\n",
       "      <th>0</th>\n",
       "      <td>T3YUHF6</td>\n",
       "      <td>Toyota</td>\n",
       "      <td>Yellow</td>\n",
       "      <td>Jianbo Megannem</td>\n",
       "      <td>5'6\"</td>\n",
       "      <td>246</td>\n",
       "    </tr>\n",
       "    <tr>\n",
       "      <th>1</th>\n",
       "      <td>EZ21ECE</td>\n",
       "      <td>BMW</td>\n",
       "      <td>Gold</td>\n",
       "      <td>Norbert Feldwehr</td>\n",
       "      <td>5'3\"</td>\n",
       "      <td>205</td>\n",
       "    </tr>\n",
       "    <tr>\n",
       "      <th>2</th>\n",
       "      <td>CQN2TJE</td>\n",
       "      <td>Mazda</td>\n",
       "      <td>Red</td>\n",
       "      <td>Alexandra Jokinen</td>\n",
       "      <td>5'11\"</td>\n",
       "      <td>227</td>\n",
       "    </tr>\n",
       "    <tr>\n",
       "      <th>3</th>\n",
       "      <td>D875IMS</td>\n",
       "      <td>Cadillac</td>\n",
       "      <td>Orange</td>\n",
       "      <td>Thi Kostadinov</td>\n",
       "      <td>5'11\"</td>\n",
       "      <td>198</td>\n",
       "    </tr>\n",
       "    <tr>\n",
       "      <th>4</th>\n",
       "      <td>Q0SK1KP</td>\n",
       "      <td>Cadillac</td>\n",
       "      <td>Red</td>\n",
       "      <td>Sidni Sze</td>\n",
       "      <td>5'9\"</td>\n",
       "      <td>199</td>\n",
       "    </tr>\n",
       "  </tbody>\n",
       "</table>\n",
       "</div>"
      ],
      "text/plain": [
       "  License Plate      Make   Color              Owner Owner Height  \\\n",
       "0       T3YUHF6    Toyota  Yellow    Jianbo Megannem         5'6\"   \n",
       "1       EZ21ECE       BMW    Gold   Norbert Feldwehr         5'3\"   \n",
       "2       CQN2TJE     Mazda     Red  Alexandra Jokinen        5'11\"   \n",
       "3       D875IMS  Cadillac  Orange     Thi Kostadinov        5'11\"   \n",
       "4       Q0SK1KP  Cadillac     Red          Sidni Sze         5'9\"   \n",
       "\n",
       "   Owner Weight (lbs.)  \n",
       "0                  246  \n",
       "1                  205  \n",
       "2                  227  \n",
       "3                  198  \n",
       "4                  199  "
      ]
     },
     "execution_count": 9,
     "metadata": {},
     "output_type": "execute_result"
    }
   ],
   "source": [
    "### START CODE HERE ###\n",
    "\n",
    "vehicle_dataframe = pd.read_csv('./data/vehicles/vehicles.csv', index_col=0)\n",
    "\n",
    "### END CODE HERE ###\n",
    "\n",
    "vehicle_dataframe.head()"
   ]
  },
  {
   "cell_type": "markdown",
   "metadata": {},
   "source": [
    "We know the make and colour the suspect drove while leaving Pandas Express, thanks to the interview, and we also know the suspects height! We also know some information about the suspects license plate! \n",
    "\n",
    "Let's combine all this information and see what we can learn!"
   ]
  },
  {
   "cell_type": "code",
   "execution_count": 10,
   "metadata": {},
   "outputs": [
    {
     "data": {
      "text/html": [
       "<div>\n",
       "<style scoped>\n",
       "    .dataframe tbody tr th:only-of-type {\n",
       "        vertical-align: middle;\n",
       "    }\n",
       "\n",
       "    .dataframe tbody tr th {\n",
       "        vertical-align: top;\n",
       "    }\n",
       "\n",
       "    .dataframe thead th {\n",
       "        text-align: right;\n",
       "    }\n",
       "</style>\n",
       "<table border=\"1\" class=\"dataframe\">\n",
       "  <thead>\n",
       "    <tr style=\"text-align: right;\">\n",
       "      <th></th>\n",
       "      <th>License Plate</th>\n",
       "      <th>Make</th>\n",
       "      <th>Color</th>\n",
       "      <th>Owner</th>\n",
       "      <th>Owner Height</th>\n",
       "      <th>Owner Weight (lbs.)</th>\n",
       "    </tr>\n",
       "  </thead>\n",
       "  <tbody>\n",
       "    <tr>\n",
       "      <th>1023</th>\n",
       "      <td>L337QE9</td>\n",
       "      <td>Honda</td>\n",
       "      <td>Blue</td>\n",
       "      <td>Erika Owens</td>\n",
       "      <td>6'5\"</td>\n",
       "      <td>220</td>\n",
       "    </tr>\n",
       "    <tr>\n",
       "      <th>3547</th>\n",
       "      <td>L337DV9</td>\n",
       "      <td>Honda</td>\n",
       "      <td>Blue</td>\n",
       "      <td>Joe Germuska</td>\n",
       "      <td>6'2\"</td>\n",
       "      <td>164</td>\n",
       "    </tr>\n",
       "    <tr>\n",
       "      <th>4546</th>\n",
       "      <td>L3375A9</td>\n",
       "      <td>Honda</td>\n",
       "      <td>Blue</td>\n",
       "      <td>Jeremy Bowers</td>\n",
       "      <td>6'1\"</td>\n",
       "      <td>204</td>\n",
       "    </tr>\n",
       "    <tr>\n",
       "      <th>4901</th>\n",
       "      <td>L337WR9</td>\n",
       "      <td>Honda</td>\n",
       "      <td>Blue</td>\n",
       "      <td>Jacqui Maher</td>\n",
       "      <td>6'2\"</td>\n",
       "      <td>130</td>\n",
       "    </tr>\n",
       "  </tbody>\n",
       "</table>\n",
       "</div>"
      ],
      "text/plain": [
       "     License Plate   Make Color          Owner Owner Height  \\\n",
       "1023       L337QE9  Honda  Blue    Erika Owens         6'5\"   \n",
       "3547       L337DV9  Honda  Blue   Joe Germuska         6'2\"   \n",
       "4546       L3375A9  Honda  Blue  Jeremy Bowers         6'1\"   \n",
       "4901       L337WR9  Honda  Blue   Jacqui Maher         6'2\"   \n",
       "\n",
       "      Owner Weight (lbs.)  \n",
       "1023                  220  \n",
       "3547                  164  \n",
       "4546                  204  \n",
       "4901                  130  "
      ]
     },
     "execution_count": 10,
     "metadata": {},
     "output_type": "execute_result"
    }
   ],
   "source": [
    "### START CODE HERE ###\n",
    "\n",
    "# be sure to include the information in the format provided from the DataFrame above!\n",
    "vehicle_suspects_dataframe = vehicle_dataframe[\n",
    "    (vehicle_dataframe['Make'] == 'Honda') & \n",
    "    (vehicle_dataframe['Color'] == 'Blue') & \n",
    "    (vehicle_dataframe['License Plate'].str.startswith('L337')) &\n",
    "    (vehicle_dataframe['License Plate'].str.endswith('9')) &\n",
    "    (vehicle_dataframe['Owner Height'].str.startswith('6'))\n",
    "]\n",
    "\n",
    "### END CODE HERE ###\n",
    "\n",
    "vehicle_suspects_dataframe.head()"
   ]
  },
  {
   "cell_type": "markdown",
   "metadata": {},
   "source": [
    "There we have it, a narrowed list of names - let's see if we can fit the final clue into the picture in order to wrap this case up!"
   ]
  },
  {
   "cell_type": "markdown",
   "metadata": {},
   "source": [
    "### Gathering Information on Memberships\n",
    "\n",
    "We have data from the following memberships on file:\n",
    "\n",
    "1. `AAA`\n",
    "2. `AAdvantage`\n",
    "3. `Costco`\n",
    "4. `Delta_SkyMiles`\n",
    "5. `Fitness_Galaxy`\n",
    "6. `Museum_of_Bash_History`\n",
    "7. `REI`\n",
    "8. `Rotary_Club`\n",
    "9. `TCSU_Alumni_Association`\n",
    "10. `Terminal_City_Library`\n",
    "11. `United_MileagePlus`\n",
    "\n",
    "From the evidence collected, input the memberships that the suspect held."
   ]
  },
  {
   "cell_type": "code",
   "execution_count": 11,
   "metadata": {},
   "outputs": [],
   "source": [
    "### START CODE HERE ###\n",
    "\n",
    "# Be sure to include all of the suspects memberships in the format provided above!\n",
    "memberships = [\n",
    "    \"AAA\", \"Delta_SkyMiles\", \"Terminal_City_Library\", \"Museum_of_Bash_History\"\n",
    "]\n",
    "\n",
    "### END CODE HERE ###\n",
    "\n",
    "memberships = list(map(lambda x: f\"{x}.csv\", memberships))"
   ]
  },
  {
   "cell_type": "markdown",
   "metadata": {},
   "source": [
    "We're going to be using a combination of `glob` and `os` again! Because those libraries should already be imported, we doon't need to import them again!"
   ]
  },
  {
   "cell_type": "code",
   "execution_count": 14,
   "metadata": {},
   "outputs": [
    {
     "name": "stdout",
     "output_type": "stream",
     "text": [
      "['./data/memberships/TCSU_Alumni_Association.csv', './data/memberships/Delta_SkyMiles.csv', './data/memberships/United_MileagePlus.csv', './data/memberships/Museum_of_Bash_History.csv', './data/memberships/Rotary_Club.csv', './data/memberships/Costco.csv', './data/memberships/Fitness_Galaxy.csv', './data/memberships/REI.csv', './data/memberships/AAdvantage.csv', './data/memberships/AAA.csv', './data/memberships/Terminal_City_Library.csv']\n"
     ]
    }
   ],
   "source": [
    "files = os.path.join('./data/memberships/', '*.csv')\n",
    "files = glob.glob(files)\n",
    "print(files)"
   ]
  },
  {
   "cell_type": "markdown",
   "metadata": {},
   "source": [
    "Next we'll combine these `.csv` files together into a list of `pandas.DataFrame`s (read more about those [here](https://pandas.pydata.org/docs/reference/api/pandas.DataFrame.html))"
   ]
  },
  {
   "cell_type": "code",
   "execution_count": 17,
   "metadata": {
    "collapsed": true
   },
   "outputs": [
    {
     "name": "stdout",
     "output_type": "stream",
     "text": [
      "[                   names\n",
      "0           Ana Williams\n",
      "1         Alejandro Abdi\n",
      "2              Ana Dukic\n",
      "3       Heather Billings\n",
      "4       Lucia Maksimovic\n",
      "...                  ...\n",
      "1282   Alexandra Jokinen\n",
      "1283      Stefan Webster\n",
      "1284      Jemma Gabriele\n",
      "1285  Alberto Fiakaifonu\n",
      "1286        Mateusz Metu\n",
      "\n",
      "[1287 rows x 1 columns],                    names\n",
      "0          Limei Ioannou\n",
      "1         Mihaela Toskic\n",
      "2        Mihyun Dahlberg\n",
      "3         Joseph Nielsen\n",
      "4        Glenn Ouedraogo\n",
      "...                  ...\n",
      "1285     Emanuele Oulmou\n",
      "1286         Peter Sloma\n",
      "1287       Angela Palomo\n",
      "1288     Peter Neethling\n",
      "1289  Michelle Kirilenko\n",
      "\n",
      "[1290 rows x 1 columns],                    names\n",
      "0        Courtney Yankey\n",
      "1     Robert Mothersille\n",
      "2       Akvile Saedeleer\n",
      "3         Daniel Hayashi\n",
      "4            Roel Garcia\n",
      "...                  ...\n",
      "1299        Seiya Railey\n",
      "1300     Radoslaw Robles\n",
      "1301    Kathleen Schmidt\n",
      "1302         Dani Loukas\n",
      "1303        Kaspar Brown\n",
      "\n",
      "[1304 rows x 1 columns],                      names\n",
      "0            Julen Fogarty\n",
      "1            Fabian Knight\n",
      "2          Katarzyna Talay\n",
      "3            Antonina Raif\n",
      "4         Viktor Lamdassem\n",
      "...                    ...\n",
      "1291   Sviatlana Zucchetti\n",
      "1292  Christopher Stafford\n",
      "1293           Xiang Wukie\n",
      "1294           Mohammad Li\n",
      "1295     Bernardo Thompson\n",
      "\n",
      "[1296 rows x 1 columns]]\n"
     ]
    }
   ],
   "source": [
    "membership_dataframe_list = [pd.read_csv(file) for file in files if file.endswith(tuple(memberships))]\n",
    "print(membership_dataframe_list)"
   ]
  },
  {
   "cell_type": "markdown",
   "metadata": {},
   "source": [
    "Now, we'll find the intersection of the memberships using `pandas.merge` (read about it [here](https://pandas.pydata.org/docs/reference/api/pandas.merge.html)) on the list of dataframes.\n",
    "\n",
    "We're using `reduce` from functools (read about it [here](https://www.geeksforgeeks.org/reduce-in-python/)) to perform the `pandas.merge` operation on a number of `pandas.DataFrame`s."
   ]
  },
  {
   "cell_type": "code",
   "execution_count": 18,
   "metadata": {},
   "outputs": [
    {
     "name": "stdout",
     "output_type": "stream",
     "text": [
      "                  names\n",
      "0          Aldo Nicolas\n",
      "1       Nikolaus Milatz\n",
      "2              Emma Wei\n",
      "3         Tamara Cafaro\n",
      "4           Sonata Raif\n",
      "5       Deron Estanguet\n",
      "6          Andrei Masna\n",
      "7         Marina Murphy\n",
      "8          Krystian Pen\n",
      "9        Mary Tomashova\n",
      "10           Matt Waite\n",
      "11         Jacqui Maher\n",
      "12    Liangliang Miller\n",
      "13         Jamila Rodhe\n",
      "14         Mike Bostock\n",
      "15          Brian Boyer\n",
      "16         Didier Munoz\n",
      "17      Augustin Lozano\n",
      "18        Dalibor Vidal\n",
      "19         Monika Hwang\n",
      "20         Kelly Kulish\n",
      "21  Stephanie Adlington\n",
      "22        Jeremy Bowers\n"
     ]
    }
   ],
   "source": [
    "from functools import reduce\n",
    "\n",
    "membership_suspects_dataframe = reduce(lambda x, y: pd.merge(x, y, how='inner'), membership_dataframe_list)\n",
    "print(membership_suspects_dataframe)"
   ]
  },
  {
   "cell_type": "markdown",
   "metadata": {},
   "source": [
    "### Putting it all together\n",
    "\n",
    "Alright, now that we have our vehicle suspects, our membership suspects, as well as the database of people - let's put this all together and see what we can find!\n",
    "\n",
    "First step is to merge the two suspect lists to narrow it down."
   ]
  },
  {
   "cell_type": "code",
   "execution_count": 19,
   "metadata": {},
   "outputs": [
    {
     "data": {
      "text/html": [
       "<div>\n",
       "<style scoped>\n",
       "    .dataframe tbody tr th:only-of-type {\n",
       "        vertical-align: middle;\n",
       "    }\n",
       "\n",
       "    .dataframe tbody tr th {\n",
       "        vertical-align: top;\n",
       "    }\n",
       "\n",
       "    .dataframe thead th {\n",
       "        text-align: right;\n",
       "    }\n",
       "</style>\n",
       "<table border=\"1\" class=\"dataframe\">\n",
       "  <thead>\n",
       "    <tr style=\"text-align: right;\">\n",
       "      <th></th>\n",
       "      <th>License Plate</th>\n",
       "      <th>Make</th>\n",
       "      <th>Color</th>\n",
       "      <th>Owner</th>\n",
       "      <th>Owner Height</th>\n",
       "      <th>Owner Weight (lbs.)</th>\n",
       "      <th>names</th>\n",
       "    </tr>\n",
       "  </thead>\n",
       "  <tbody>\n",
       "    <tr>\n",
       "      <th>0</th>\n",
       "      <td>L3375A9</td>\n",
       "      <td>Honda</td>\n",
       "      <td>Blue</td>\n",
       "      <td>Jeremy Bowers</td>\n",
       "      <td>6'1\"</td>\n",
       "      <td>204</td>\n",
       "      <td>Jeremy Bowers</td>\n",
       "    </tr>\n",
       "    <tr>\n",
       "      <th>1</th>\n",
       "      <td>L337WR9</td>\n",
       "      <td>Honda</td>\n",
       "      <td>Blue</td>\n",
       "      <td>Jacqui Maher</td>\n",
       "      <td>6'2\"</td>\n",
       "      <td>130</td>\n",
       "      <td>Jacqui Maher</td>\n",
       "    </tr>\n",
       "  </tbody>\n",
       "</table>\n",
       "</div>"
      ],
      "text/plain": [
       "  License Plate   Make Color          Owner Owner Height  Owner Weight (lbs.)  \\\n",
       "0       L3375A9  Honda  Blue  Jeremy Bowers         6'1\"                  204   \n",
       "1       L337WR9  Honda  Blue   Jacqui Maher         6'2\"                  130   \n",
       "\n",
       "           names  \n",
       "0  Jeremy Bowers  \n",
       "1   Jacqui Maher  "
      ]
     },
     "execution_count": 19,
     "metadata": {},
     "output_type": "execute_result"
    }
   ],
   "source": [
    "merged_suspect_dataframe = pd.merge(vehicle_suspects_dataframe, membership_suspects_dataframe, left_on='Owner', right_on='names')\n",
    "merged_suspect_dataframe.head()"
   ]
  },
  {
   "cell_type": "markdown",
   "metadata": {},
   "source": [
    "Gah! We have two suspects, let's check `people_dataframe` and see if there's anyway we can decide! \n",
    "\n",
    "HINT: Look at the new columns added as a result of the merge and remember what we know about our suspect!"
   ]
  },
  {
   "cell_type": "code",
   "execution_count": 20,
   "metadata": {},
   "outputs": [
    {
     "data": {
      "text/html": [
       "<div>\n",
       "<style scoped>\n",
       "    .dataframe tbody tr th:only-of-type {\n",
       "        vertical-align: middle;\n",
       "    }\n",
       "\n",
       "    .dataframe tbody tr th {\n",
       "        vertical-align: top;\n",
       "    }\n",
       "\n",
       "    .dataframe thead th {\n",
       "        text-align: right;\n",
       "    }\n",
       "</style>\n",
       "<table border=\"1\" class=\"dataframe\">\n",
       "  <thead>\n",
       "    <tr style=\"text-align: right;\">\n",
       "      <th></th>\n",
       "      <th>License Plate</th>\n",
       "      <th>Make</th>\n",
       "      <th>Color</th>\n",
       "      <th>Owner</th>\n",
       "      <th>Owner Height</th>\n",
       "      <th>Owner Weight (lbs.)</th>\n",
       "      <th>names</th>\n",
       "      <th>name</th>\n",
       "      <th>gender</th>\n",
       "      <th>age</th>\n",
       "      <th>address</th>\n",
       "    </tr>\n",
       "  </thead>\n",
       "  <tbody>\n",
       "    <tr>\n",
       "      <th>0</th>\n",
       "      <td>L3375A9</td>\n",
       "      <td>Honda</td>\n",
       "      <td>Blue</td>\n",
       "      <td>Jeremy Bowers</td>\n",
       "      <td>6'1\"</td>\n",
       "      <td>204</td>\n",
       "      <td>Jeremy Bowers</td>\n",
       "      <td>Jeremy Bowers</td>\n",
       "      <td>M</td>\n",
       "      <td>34</td>\n",
       "      <td>Dunstable Road, line 284</td>\n",
       "    </tr>\n",
       "    <tr>\n",
       "      <th>1</th>\n",
       "      <td>L337WR9</td>\n",
       "      <td>Honda</td>\n",
       "      <td>Blue</td>\n",
       "      <td>Jacqui Maher</td>\n",
       "      <td>6'2\"</td>\n",
       "      <td>130</td>\n",
       "      <td>Jacqui Maher</td>\n",
       "      <td>Jacqui Maher</td>\n",
       "      <td>F</td>\n",
       "      <td>40</td>\n",
       "      <td>Andover Road, line 224</td>\n",
       "    </tr>\n",
       "  </tbody>\n",
       "</table>\n",
       "</div>"
      ],
      "text/plain": [
       "  License Plate   Make Color          Owner Owner Height  Owner Weight (lbs.)  \\\n",
       "0       L3375A9  Honda  Blue  Jeremy Bowers         6'1\"                  204   \n",
       "1       L337WR9  Honda  Blue   Jacqui Maher         6'2\"                  130   \n",
       "\n",
       "           names           name gender  age                   address  \n",
       "0  Jeremy Bowers  Jeremy Bowers      M   34  Dunstable Road, line 284  \n",
       "1   Jacqui Maher   Jacqui Maher      F   40    Andover Road, line 224  "
      ]
     },
     "execution_count": 20,
     "metadata": {},
     "output_type": "execute_result"
    }
   ],
   "source": [
    "final_merged_dataframe = pd.merge(merged_suspect_dataframe, people_dataframe, left_on=\"Owner\", right_on='name')\n",
    "final_merged_dataframe.head()"
   ]
  },
  {
   "cell_type": "markdown",
   "metadata": {},
   "source": [
    "HINT: Look at the new columns added as a result of the merge and remember what we know about our suspect! Pay close attention to the `gender` column!"
   ]
  },
  {
   "cell_type": "markdown",
   "metadata": {},
   "source": [
    "Now that we have our final suspect, let's see if it's correct!"
   ]
  },
  {
   "cell_type": "code",
   "execution_count": 25,
   "metadata": {},
   "outputs": [
    {
     "ename": "FileNotFoundError",
     "evalue": "[Errno 2] No such file or directory: '.env'",
     "output_type": "error",
     "traceback": [
      "\u001b[0;31m---------------------------------------------------------------------------\u001b[0m",
      "\u001b[0;31mFileNotFoundError\u001b[0m                         Traceback (most recent call last)",
      "Input \u001b[0;32mIn [25]\u001b[0m, in \u001b[0;36m<cell line: 3>\u001b[0;34m()\u001b[0m\n\u001b[1;32m      1\u001b[0m \u001b[38;5;28;01mfrom\u001b[39;00m \u001b[38;5;21;01mhelper_functions\u001b[39;00m\u001b[38;5;21;01m.\u001b[39;00m\u001b[38;5;21;01mcheck_name\u001b[39;00m \u001b[38;5;28;01mimport\u001b[39;00m check_name\n\u001b[0;32m----> 3\u001b[0m \u001b[43mcheck_name\u001b[49m\u001b[43m(\u001b[49m\u001b[38;5;124;43m\"\u001b[39;49m\u001b[38;5;124;43mJeremy Bowers\u001b[39;49m\u001b[38;5;124;43m\"\u001b[39;49m\u001b[43m)\u001b[49m\n",
      "File \u001b[0;32m~/myLurnins/fourthbrain.ai/code/whodunit/helper_functions/check_name.py:4\u001b[0m, in \u001b[0;36mcheck_name\u001b[0;34m(name)\u001b[0m\n\u001b[1;32m      3\u001b[0m \u001b[38;5;28;01mdef\u001b[39;00m \u001b[38;5;21mcheck_name\u001b[39m(name: \u001b[38;5;28mstr\u001b[39m) \u001b[38;5;241m-\u001b[39m\u001b[38;5;241m>\u001b[39m \u001b[38;5;28;01mNone\u001b[39;00m:\n\u001b[0;32m----> 4\u001b[0m     \u001b[38;5;28;01mwith\u001b[39;00m \u001b[38;5;28;43mopen\u001b[39;49m\u001b[43m(\u001b[49m\u001b[38;5;124;43m'\u001b[39;49m\u001b[38;5;124;43m.env\u001b[39;49m\u001b[38;5;124;43m'\u001b[39;49m\u001b[43m,\u001b[49m\u001b[43m \u001b[49m\u001b[38;5;124;43m'\u001b[39;49m\u001b[38;5;124;43mr\u001b[39;49m\u001b[38;5;124;43m'\u001b[39;49m\u001b[43m)\u001b[49m \u001b[38;5;28;01mas\u001b[39;00m f:\n\u001b[1;32m      5\u001b[0m         \u001b[38;5;28;01mif\u001b[39;00m f\u001b[38;5;241m.\u001b[39mread() \u001b[38;5;241m==\u001b[39m hashlib\u001b[38;5;241m.\u001b[39msha256(name\u001b[38;5;241m.\u001b[39mencode(\u001b[38;5;124m'\u001b[39m\u001b[38;5;124mutf-8\u001b[39m\u001b[38;5;124m'\u001b[39m))\u001b[38;5;241m.\u001b[39mhexdigest():\n\u001b[1;32m      6\u001b[0m             \u001b[38;5;28mprint\u001b[39m(\u001b[38;5;124m'\u001b[39m\u001b[38;5;124mCongrats! You have officially solved the crime at the Pandas Express! Thanks for participating!\u001b[39m\u001b[38;5;124m'\u001b[39m)\n",
      "\u001b[0;31mFileNotFoundError\u001b[0m: [Errno 2] No such file or directory: '.env'"
     ]
    }
   ],
   "source": [
    "from helper_functions.check_name import check_name\n",
    "\n",
    "check_name(\"Jeremy Bowers\")"
   ]
  }
 ],
 "metadata": {
  "kernelspec": {
   "display_name": "Python 3 (ipykernel)",
   "language": "python",
   "name": "python3"
  },
  "language_info": {
   "codemirror_mode": {
    "name": "ipython",
    "version": 3
   },
   "file_extension": ".py",
   "mimetype": "text/x-python",
   "name": "python",
   "nbconvert_exporter": "python",
   "pygments_lexer": "ipython3",
   "version": "3.9.12"
  },
  "vscode": {
   "interpreter": {
    "hash": "635e31ff34c0350df6e9d804eda70786d94f48b17fcc73c378df4ea6ec0d01fd"
   }
  }
 },
 "nbformat": 4,
 "nbformat_minor": 2
}
