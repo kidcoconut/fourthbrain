{
 "cells": [
  {
   "cell_type": "markdown",
   "id": "399f6d9e",
   "metadata": {},
   "source": [
    "# Unix - Conda - Pip"
   ]
  },
  {
   "cell_type": "markdown",
   "id": "ef16b651",
   "metadata": {},
   "source": [
    "We run commands in CLI, e.g., Terminal, but here we are using Jupyter Notebook to demonstrate:\n",
    "\n",
    "1. Output from commands\n",
    "2. That when experiementing or developing programs in the notebook, you can avoid switching tools.\n",
    "3. That you can install pacakges in the beginning of the notebook (e.g., Sagemaker) so it's clear what packages are used."
   ]
  },
  {
   "cell_type": "markdown",
   "id": "944d1a51",
   "metadata": {},
   "source": [
    "## Unix commands"
   ]
  },
  {
   "cell_type": "markdown",
   "id": "f70f6301",
   "metadata": {},
   "source": [
    "### Basics"
   ]
  },
  {
   "cell_type": "markdown",
   "id": "a32b0652",
   "metadata": {},
   "source": [
    "For some of the basic commands, you can run use the cell to run it directly:"
   ]
  },
  {
   "cell_type": "code",
   "execution_count": 3,
   "id": "001e8c71",
   "metadata": {},
   "outputs": [
    {
     "data": {
      "text/plain": [
       "'/home/kidcoconut/myLurnins/fourthbrain.ai/code/MLE-10/assignments/week-01-mle-basictools/nb'"
      ]
     },
     "execution_count": 3,
     "metadata": {},
     "output_type": "execute_result"
    }
   ],
   "source": [
    "pwd # print working directory"
   ]
  },
  {
   "cell_type": "markdown",
   "id": "00bf36c2",
   "metadata": {},
   "source": [
    "You always want to know \"where you are\" and how to look for help. Use `man` to display the user manual of any command that we can run on the terminal. "
   ]
  },
  {
   "cell_type": "code",
   "execution_count": 2,
   "id": "0e1d0b83",
   "metadata": {},
   "outputs": [],
   "source": [
    "man pwd # press ESC to exit"
   ]
  },
  {
   "cell_type": "markdown",
   "id": "5a2b554f",
   "metadata": {},
   "source": [
    "Further, cell magic `%%bash` turns a cell into a bash script where you can run multiple lines (See more cell/line magics [here](https://ipython.readthedocs.io/en/stable/interactive/magics.html)). "
   ]
  },
  {
   "cell_type": "code",
   "execution_count": 4,
   "id": "a0641721",
   "metadata": {},
   "outputs": [
    {
     "name": "stdout",
     "output_type": "stream",
     "text": [
      "/home/kidcoconut/myLurnins/fourthbrain.ai/code/MLE-10/assignments/week-01-mle-basictools/nb\n",
      "total 68K\n",
      "drwxr-xr-x 3 kidcoconut kidcoconut 4.0K Oct 24 16:44 .\n",
      "drwxr-xr-x 6 kidcoconut kidcoconut 4.0K Oct 24 16:30 ..\n",
      "drwxr-xr-x 2 kidcoconut kidcoconut 4.0K Oct 24 16:29 .ipynb_checkpoints\n",
      "-rw-r--r-- 1 kidcoconut kidcoconut  56K Oct 24 16:44 unix-conda-pip.ipynb\n"
     ]
    }
   ],
   "source": [
    "%%bash\n",
    "pwd\n",
    "ls -lah # WE DO: What are those flags for?\n",
    "\n",
    "#--- 202010_IM: the flags are for the following\n",
    "#--- -l: list long descriptions of entries\n",
    "#--- -a: list hidden files and attributes\n",
    "#--- -h: list human readable info;  eg file sizes"
   ]
  },
  {
   "cell_type": "markdown",
   "id": "4d5a8316",
   "metadata": {},
   "source": [
    "### Download a data file"
   ]
  },
  {
   "cell_type": "markdown",
   "id": "71675d92",
   "metadata": {},
   "source": [
    "Let's download some data from [Census Income Data Set](https://archive.ics.uci.edu/ml/datasets/Census+Income); but first we would like to make a new directory to store the data at the same level as `nb` directory.\n",
    "\n",
    " "
   ]
  },
  {
   "cell_type": "code",
   "execution_count": 1,
   "id": "3b75c995",
   "metadata": {
    "scrolled": true
   },
   "outputs": [
    {
     "name": "stdout",
     "output_type": "stream",
     "text": [
      "/home/kidcoconut/myLurnins/fourthbrain.ai/code/MLE-10/assignments/week-01-mle-basictools/nb\n",
      "/home/kidcoconut/myLurnins/fourthbrain.ai/code/MLE-10/assignments/week-01-mle-basictools\n"
     ]
    }
   ],
   "source": [
    "\n",
    "#--- 202210_IM:  pre-reqs;  project root directory is /MLE-10;  prep dir\n",
    "%cd ~/myLurnins/fourthbrain.ai/code/MLE-10/assignments/week-01-mle-basictools/nb\n",
    "%cd ..\n"
   ]
  },
  {
   "cell_type": "code",
   "execution_count": 7,
   "id": "dec95de4",
   "metadata": {},
   "outputs": [
    {
     "name": "stdout",
     "output_type": "stream",
     "text": [
      "/home/kidcoconut/myLurnins/fourthbrain.ai/code/MLE-10/assignments/week-01-mle-basictools\n"
     ]
    }
   ],
   "source": [
    "%%bash\n",
    "# WE DO: make a new directory called `dat` under the project root directory\n",
    "\n",
    "#--- 202210_IM:  only create the dir if it does not already exist (-p)\n",
    "pwd\n",
    "mkdir -p dat"
   ]
  },
  {
   "cell_type": "markdown",
   "id": "8e4f5671",
   "metadata": {},
   "source": [
    "Let's confirm that we just created an empty directory `dat` using command `tree`. Not all command can be run in the cell directly, adding ! in front of command can do the trick:\n",
    "\n",
    "\n",
    "    #--- 202210_IM: PREREQ - make sure that tree library is installed.\n",
    "                         ensure that name resolution is properly configured:\n",
    "                         \n",
    "\n",
    "    #--- UC:  ensure that /etc/resolv.conf does not get overwritten in WSL ...\n",
    "    - edit /etc/wsl.conf to prevent re-write\n",
    "    - in Powershell, un:   wsl -shutdown\n",
    "    - open Linux,  create /etc/resolvconf/resolv.conf\n",
    "    - add namespaces to /etc/resolv.conf (softlink)\n",
    "    - reopen shell and confirm no rewrite\n",
    "    \n",
    "    /etc/resolv.conf\n",
    "\n",
    "\n",
    "    sudo apt-get install tree"
   ]
  },
  {
   "cell_type": "code",
   "execution_count": 8,
   "id": "0a31b61f",
   "metadata": {
    "scrolled": true
   },
   "outputs": [
    {
     "name": "stdout",
     "output_type": "stream",
     "text": [
      "/home/kidcoconut/myLurnins/fourthbrain.ai/code/MLE-10/assignments/week-01-mle-basictools\n",
      ".\n",
      "├── LICENSE\n",
      "├── README.md\n",
      "├── dat\n",
      "│   └── adult.csv\n",
      "├── md\n",
      "│   └── git-more.md\n",
      "├── nb\n",
      "│   ├── dat\n",
      "│   └── unix-conda-pip.ipynb\n",
      "└── pandas-sklearn-basics\n",
      "    └── pandas-sklearn-basics.ipynb\n",
      "\n",
      "5 directories, 6 files\n"
     ]
    }
   ],
   "source": [
    "%%bash\n",
    "\n",
    "#--- 202210_IM:  NOTE - for some reason, the dir has reverted to the orig\n",
    "#---             Q:  are cells initialized each with their own bash env?\n",
    "#---             Q:  how do you preserve locs between cells?\n",
    "pwd\n",
    "tree   #--- IM:  list dir and contents in a tree structure"
   ]
  },
  {
   "cell_type": "code",
   "execution_count": 9,
   "id": "273eed2c",
   "metadata": {},
   "outputs": [
    {
     "name": "stderr",
     "output_type": "stream",
     "text": [
      "--2022-10-24 16:51:15--  https://archive.ics.uci.edu/ml/machine-learning-databases/adult/adult.data\n",
      "Resolving archive.ics.uci.edu (archive.ics.uci.edu)... 128.195.10.252\n",
      "Connecting to archive.ics.uci.edu (archive.ics.uci.edu)|128.195.10.252|:443... connected.\n",
      "HTTP request sent, awaiting response... 200 OK\n",
      "Length: 3974305 (3.8M) [application/x-httpd-php]\n",
      "Saving to: ‘./dat/adult.csv’\n",
      "\n",
      "     0K .......... .......... .......... .......... ..........  1%  256K 15s\n",
      "    50K .......... .......... .......... .......... ..........  2%  508K 11s\n",
      "   100K .......... .......... .......... .......... ..........  3% 4.36M 8s\n",
      "   150K .......... .......... .......... .......... ..........  5% 10.1M 6s\n",
      "   200K .......... .......... .......... .......... ..........  6%  491K 6s\n",
      "   250K .......... .......... .......... .......... ..........  7% 3.39M 5s\n",
      "   300K .......... .......... .......... .......... ..........  9% 1.85M 5s\n",
      "   350K .......... .......... .......... .......... .......... 10% 1.57M 4s\n",
      "   400K .......... .......... .......... .......... .......... 11% 1.05M 4s\n",
      "   450K .......... .......... .......... .......... .......... 12% 1.38M 4s\n",
      "   500K .......... .......... .......... .......... .......... 14% 1.38M 4s\n",
      "   550K .......... .......... .......... .......... .......... 15% 1.65M 3s\n",
      "   600K .......... .......... .......... .......... .......... 16%  182K 5s\n",
      "   650K .......... .......... .......... .......... .......... 18% 1.67M 4s\n",
      "   700K .......... .......... .......... .......... .......... 19% 1.59M 4s\n",
      "   750K .......... .......... .......... .......... .......... 20% 11.4M 4s\n",
      "   800K .......... .......... .......... .......... .......... 21% 2.42M 4s\n",
      "   850K .......... .......... .......... .......... .......... 23% 2.12M 3s\n",
      "   900K .......... .......... .......... .......... .......... 24% 83.1K 5s\n",
      "   950K .......... .......... .......... .......... .......... 25% 9.26M 5s\n",
      "  1000K .......... .......... .......... .......... .......... 27% 8.90M 4s\n",
      "  1050K .......... .......... .......... .......... .......... 28%  157M 4s\n",
      "  1100K .......... .......... .......... .......... .......... 29%  122M 4s\n",
      "  1150K .......... .......... .......... .......... .......... 30%  140M 4s\n",
      "  1200K .......... .......... .......... .......... .......... 32%  141M 3s\n",
      "  1250K .......... .......... .......... .......... .......... 33%  144M 3s\n",
      "  1300K .......... .......... .......... .......... .......... 34%  120M 3s\n",
      "  1350K .......... .......... .......... .......... .......... 36%  151M 3s\n",
      "  1400K .......... .......... .......... .......... .......... 37%  127M 3s\n",
      "  1450K .......... .......... .......... .......... .......... 38%  161M 3s\n",
      "  1500K .......... .......... .......... .......... .......... 39%  141M 2s\n",
      "  1550K .......... .......... .......... .......... .......... 41%  117M 2s\n",
      "  1600K .......... .......... .......... .......... .......... 42%  148M 2s\n",
      "  1650K .......... .......... .......... .......... .......... 43%  129M 2s\n",
      "  1700K .......... .......... .......... .......... .......... 45%  162M 2s\n",
      "  1750K .......... .......... .......... .......... .......... 46%  371K 2s\n",
      "  1800K .......... .......... .......... .......... .......... 47% 2.77M 2s\n",
      "  1850K .......... .......... .......... .......... .......... 48% 1.60M 2s\n",
      "  1900K .......... .......... .......... .......... .......... 50% 1.46M 2s\n",
      "  1950K .......... .......... .......... .......... .......... 51%  199K 2s\n",
      "  2000K .......... .......... .......... .......... .......... 52% 6.39M 2s\n",
      "  2050K .......... .......... .......... .......... .......... 54% 2.05M 2s\n",
      "  2100K .......... .......... .......... .......... .......... 55% 1.46M 2s\n",
      "  2150K .......... .......... .......... .......... .......... 56%  128M 2s\n",
      "  2200K .......... .......... .......... .......... .......... 57%  156M 2s\n",
      "  2250K .......... .......... .......... .......... .......... 59%  208M 1s\n",
      "  2300K .......... .......... .......... .......... .......... 60%  119M 1s\n",
      "  2350K .......... .......... .......... .......... .......... 61% 1.47M 1s\n",
      "  2400K .......... .......... .......... .......... .......... 63% 1.83M 1s\n",
      "  2450K .......... .......... .......... .......... .......... 64% 1.41M 1s\n",
      "  2500K .......... .......... .......... .......... .......... 65% 1.31M 1s\n",
      "  2550K .......... .......... .......... .......... .......... 66% 1.67M 1s\n",
      "  2600K .......... .......... .......... .......... .......... 68% 1.07M 1s\n",
      "  2650K .......... .......... .......... .......... .......... 69% 1.42M 1s\n",
      "  2700K .......... .......... .......... .......... .......... 70% 1.52M 1s\n",
      "  2750K .......... .......... .......... .......... .......... 72% 1.23M 1s\n",
      "  2800K .......... .......... .......... .......... .......... 73% 1.61M 1s\n",
      "  2850K .......... .......... .......... .......... .......... 74% 1.11M 1s\n",
      "  2900K .......... .......... .......... .......... .......... 76% 1.39M 1s\n",
      "  2950K .......... .......... .......... .......... .......... 77% 1.31M 1s\n",
      "  3000K .......... .......... .......... .......... .......... 78% 1.48M 1s\n",
      "  3050K .......... .......... .......... .......... .......... 79% 1.69M 1s\n",
      "  3100K .......... .......... .......... .......... .......... 81%  987K 1s\n",
      "  3150K .......... .......... .......... .......... .......... 82% 1.79M 1s\n",
      "  3200K .......... .......... .......... .......... .......... 83% 1.20M 1s\n",
      "  3250K .......... .......... .......... .......... .......... 85% 1.83M 0s\n",
      "  3300K .......... .......... .......... .......... .......... 86% 1.06M 0s\n",
      "  3350K .......... .......... .......... .......... .......... 87% 1.51M 0s\n",
      "  3400K .......... .......... .......... .......... .......... 88% 1.47M 0s\n",
      "  3450K .......... .......... .......... .......... .......... 90% 1.35M 0s\n",
      "  3500K .......... .......... .......... .......... .......... 91% 1.14M 0s\n",
      "  3550K .......... .......... .......... .......... .......... 92% 1.46M 0s\n",
      "  3600K .......... .......... .......... .......... .......... 94% 1.28M 0s\n",
      "  3650K .......... .......... .......... .......... .......... 95% 1.36M 0s\n",
      "  3700K .......... .......... .......... .......... .......... 96%  304K 0s\n",
      "  3750K .......... .......... .......... .......... .......... 97% 21.0M 0s\n",
      "  3800K .......... .......... .......... .......... .......... 99%  118M 0s\n",
      "  3850K .......... .......... .......... .                    100%  193M=3.3s\n",
      "\n",
      "2022-10-24 16:51:19 (1.15 MB/s) - ‘./dat/adult.csv’ saved [3974305/3974305]\n",
      "\n"
     ]
    }
   ],
   "source": [
    "%%bash\n",
    "\n",
    "#--- download csv file\n",
    "wget https://archive.ics.uci.edu/ml/machine-learning-databases/adult/adult.data -O ./dat/adult.csv"
   ]
  },
  {
   "cell_type": "code",
   "execution_count": 12,
   "id": "d45bd2fd",
   "metadata": {},
   "outputs": [
    {
     "name": "stdout",
     "output_type": "stream",
     "text": [
      "/home/kidcoconut/myLurnins/fourthbrain.ai/code/MLE-10/assignments/week-01-mle-basictools\n",
      ".\n",
      "├── LICENSE\n",
      "├── README.md\n",
      "├── dat\n",
      "│   └── adult.csv\n",
      "├── md\n",
      "│   └── git-more.md\n",
      "├── nb\n",
      "│   ├── dat\n",
      "│   └── unix-conda-pip.ipynb\n",
      "└── pandas-sklearn-basics\n",
      "    └── pandas-sklearn-basics.ipynb\n",
      "\n",
      "5 directories, 6 files\n"
     ]
    }
   ],
   "source": [
    "%%bash\n",
    "pwd            #--- working dir remains the project root;  \n",
    "               #    expected ~/myLurnins/fourthbrain.ai/code/MLE-10/assignments/week-01-mle-basictools\n",
    "\n",
    "tree . -L 2   #--- generate the tree, limiting the depth to 2 layers"
   ]
  },
  {
   "cell_type": "markdown",
   "id": "d1c3ad4c",
   "metadata": {},
   "source": [
    "### Inspect data"
   ]
  },
  {
   "cell_type": "markdown",
   "id": "a17d9ad5",
   "metadata": {},
   "source": [
    "Let's inspect first 10 lines of data:"
   ]
  },
  {
   "cell_type": "code",
   "execution_count": 15,
   "id": "4b397608",
   "metadata": {},
   "outputs": [
    {
     "name": "stdout",
     "output_type": "stream",
     "text": [
      "/home/kidcoconut/myLurnins/fourthbrain.ai/code/MLE-10/assignments/week-01-mle-basictools\n",
      "39, State-gov, 77516, Bachelors, 13, Never-married, Adm-clerical, Not-in-family, White, Male, 2174, 0, 40, United-States, <=50K\n",
      "50, Self-emp-not-inc, 83311, Bachelors, 13, Married-civ-spouse, Exec-managerial, Husband, White, Male, 0, 0, 13, United-States, <=50K\n",
      "38, Private, 215646, HS-grad, 9, Divorced, Handlers-cleaners, Not-in-family, White, Male, 0, 0, 40, United-States, <=50K\n",
      "53, Private, 234721, 11th, 7, Married-civ-spouse, Handlers-cleaners, Husband, Black, Male, 0, 0, 40, United-States, <=50K\n",
      "28, Private, 338409, Bachelors, 13, Married-civ-spouse, Prof-specialty, Wife, Black, Female, 0, 0, 40, Cuba, <=50K\n",
      "37, Private, 284582, Masters, 14, Married-civ-spouse, Exec-managerial, Wife, White, Female, 0, 0, 40, United-States, <=50K\n",
      "49, Private, 160187, 9th, 5, Married-spouse-absent, Other-service, Not-in-family, Black, Female, 0, 0, 16, Jamaica, <=50K\n",
      "52, Self-emp-not-inc, 209642, HS-grad, 9, Married-civ-spouse, Exec-managerial, Husband, White, Male, 0, 0, 45, United-States, >50K\n",
      "31, Private, 45781, Masters, 14, Never-married, Prof-specialty, Not-in-family, White, Female, 14084, 0, 50, United-States, >50K\n",
      "42, Private, 159449, Bachelors, 13, Married-civ-spouse, Exec-managerial, Husband, White, Male, 5178, 0, 40, United-States, >50K\n",
      "/n>>>END\n"
     ]
    }
   ],
   "source": [
    "%%bash\n",
    "pwd                    #--- check your starting point\n",
    "\n",
    "head ./dat/adult.csv\n",
    "echo '>>>END'"
   ]
  },
  {
   "cell_type": "markdown",
   "id": "17f5a9f0",
   "metadata": {},
   "source": [
    "How about the last 3 lines? ( wait, I only see 2 lines. what's wrong? ) \n",
    "\n",
    "#--- 202210_IM:  possibly there is a carriage return on the last line?"
   ]
  },
  {
   "cell_type": "code",
   "execution_count": 16,
   "id": "c59382eb",
   "metadata": {},
   "outputs": [
    {
     "name": "stdout",
     "output_type": "stream",
     "text": [
      "/home/kidcoconut/myLurnins/fourthbrain.ai/code/MLE-10/assignments/week-01-mle-basictools\n",
      "22, Private, 201490, HS-grad, 9, Never-married, Adm-clerical, Own-child, White, Male, 0, 0, 20, United-States, <=50K\n",
      "52, Self-emp-inc, 287927, HS-grad, 9, Married-civ-spouse, Exec-managerial, Wife, White, Female, 15024, 0, 40, United-States, >50K\n",
      "\n",
      ">>>END\n"
     ]
    }
   ],
   "source": [
    "%%bash\n",
    "pwd                    #--- check your starting point\n",
    "\n",
    "tail -n 3 ./dat/adult.csv\n",
    "echo '>>>END'"
   ]
  },
  {
   "cell_type": "markdown",
   "id": "93d8f299",
   "metadata": {},
   "source": [
    "How many records are there?\n",
    "\n",
    "#--- syntax\n",
    "wc:  word count command\n",
    "-l:  number of lines"
   ]
  },
  {
   "cell_type": "code",
   "execution_count": 17,
   "id": "ff9852aa",
   "metadata": {},
   "outputs": [
    {
     "name": "stdout",
     "output_type": "stream",
     "text": [
      "32562 ./dat/adult.csv\r\n"
     ]
    }
   ],
   "source": [
    "!wc -l ./dat/adult.csv"
   ]
  },
  {
   "cell_type": "markdown",
   "id": "422009f8",
   "metadata": {},
   "source": [
    "Challenge: how many columns are there?\n",
    "\n",
    "#--- syntax\n",
    "head:  output the first x lines\n",
    "-1:    x=1;  output only 1 line\n",
    "\n",
    "| sed s/: pipe the output to sed; bash stream editor;  s/ substitute <match text> / <new text> /\n",
    "s/:    match any whitespace\n",
    "[^,]:  negated match;  match anything that is not a comma\n",
    "//g:   do this globally across the string\n",
    "\n",
    "| wc:  pipe to the word count command\n",
    "wc -c: output the count of bytes\n"
   ]
  },
  {
   "cell_type": "code",
   "execution_count": 18,
   "id": "51a4c070",
   "metadata": {},
   "outputs": [
    {
     "name": "stdout",
     "output_type": "stream",
     "text": [
      "39, State-gov, 77516, Bachelors, 13, Never-married, Adm-clerical, Not-in-family, White, Male, 2174, 0, 40, United-States, <=50K\n"
     ]
    }
   ],
   "source": [
    "%%bash\n",
    "\n",
    "#--- step 1:  breaking down the #cols step\n",
    "#--- get the first line from the data file\n",
    "head -1 ./dat/adult.csv"
   ]
  },
  {
   "cell_type": "code",
   "execution_count": 19,
   "id": "8948c4c2",
   "metadata": {},
   "outputs": [
    {
     "name": "stdout",
     "output_type": "stream",
     "text": [
      ",,,,,,,,,,,,,,\n"
     ]
    }
   ],
   "source": [
    "%%bash\n",
    "\n",
    "#--- step 2:  breaking down the #cols step\n",
    "#--- regex parse the first line; substitute globally anything that it not a comma with a null/no data\n",
    "#--- NOTE:  there are only 14 commas!\n",
    "head -1 ./dat/adult.csv | sed 's/[^,]//g'"
   ]
  },
  {
   "cell_type": "code",
   "execution_count": 20,
   "id": "bbcded50",
   "metadata": {},
   "outputs": [
    {
     "name": "stdout",
     "output_type": "stream",
     "text": [
      "15\n"
     ]
    }
   ],
   "source": [
    "%%bash\n",
    "\n",
    "#--- step 3:  breaking down the #cols step\n",
    "#--- perform a word/byte count on the output stream\n",
    "#--- WARN:  this code depends on the last carriage return byte for a correct tally\n",
    "head -1 ./dat/adult.csv | sed 's/[^,]//g' | wc -c"
   ]
  },
  {
   "cell_type": "code",
   "execution_count": 21,
   "id": "195b5b57",
   "metadata": {},
   "outputs": [
    {
     "name": "stdout",
     "output_type": "stream",
     "text": [
      "15\r\n"
     ]
    }
   ],
   "source": [
    "!head -1 ./dat/adult.csv | sed 's/[^,]//g' | wc -c"
   ]
  },
  {
   "cell_type": "markdown",
   "id": "e52d18e0",
   "metadata": {},
   "source": [
    "## Conda: environment manager + package manager"
   ]
  },
  {
   "cell_type": "markdown",
   "id": "8fec4699",
   "metadata": {},
   "source": [
    "You might have heard about Anaconda / Miniconda / Miniforge:"
   ]
  },
  {
   "cell_type": "markdown",
   "id": "70b40550",
   "metadata": {},
   "source": [
    "- What is the difference between `conda` and `miniconda`? [An answer](https://stackoverflow.com/questions/45421163/anaconda-vs-miniconda).\n",
    "- What is the difference between `miniconda` and `miniforge`? [An answer](https://stackoverflow.com/questions/60532678/what-is-the-difference-between-miniconda-and-miniforge).\n",
    "\n",
    "Though Conda is considered both a package manager and an environment manager, we  focus on using it as the environment manager, and use `pip` as the package manager.\n",
    "\n",
    "\n",
    "    #--- 202210_IM:  note that conda and miniconda also perform pkg mgmt through 'conda install'.  Is this an alias to pip?\n",
    "    Answer:  Pip is for python pkg mgmt;  conda is not specific to python\n",
    "    Recommended:  for our course, we will use pip for python pkg mgmt only"
   ]
  },
  {
   "cell_type": "markdown",
   "id": "fa2f0973",
   "metadata": {},
   "source": [
    "### Installation - Miniconda"
   ]
  },
  {
   "cell_type": "markdown",
   "id": "aef39f0a",
   "metadata": {},
   "source": [
    "First, install `miniconda` (Feel free to skip if you have already installed it, or any flavor of conda).\n",
    "\n",
    "\n",
    "\n",
    "    #--- 202210_IM:  install miniconda for linux\n",
    "    NOTE:  running this may replaces conda and jupyter (these instructions) may not run anymore \n",
    "    NOTE:  you may need to re-run conda init <shell>\n",
    "    https://educe-ubc.github.io/conda.html#:~:text=Installing%20Miniconda%201%20Install%20Miniconda%20by%20entering%3A%20bash,download%20any%20files%20using%20CLI%3A%20conda%20install%20wget\n",
    "\n",
    "\n",
    "#--- install miniconda for MacOS\n",
    "Run the following commands in terminal to download the lastest Miniconda distribution and install it (Mac Intel Book). \n",
    "\n",
    "    ```\n",
    "    cd ~\n",
    "    wget https://repo.anaconda.com/miniconda/Miniconda3-latest-MacOSX-x86_64.sh\n",
    "    bash Miniconda3-latest-MacOSX-x86_64.sh\n",
    "    ```\n",
    "\n",
    "For M1 chip, install `miniforge` instead. If you are new to `brew`, following instructions [here](https://brew.sh) to install Homebrew first:\n",
    "\n",
    "    ```\n",
    "    brew install miniforge\n",
    "    ```\n",
    "\n",
    "Outputs from these installations are rather long, so we ask you to run it in a terminal window instead."
   ]
  },
  {
   "cell_type": "markdown",
   "id": "4ac65956",
   "metadata": {},
   "source": [
    "Confirm that the installation is successful:"
   ]
  },
  {
   "cell_type": "code",
   "execution_count": 22,
   "id": "f8a10e9d",
   "metadata": {},
   "outputs": [
    {
     "name": "stdout",
     "output_type": "stream",
     "text": [
      "/home/kidcoconut/miniconda3/bin/conda\n",
      "conda 22.9.0\n",
      "/home/kidcoconut/miniconda3/bin/python\n",
      "Python 3.9.12\n"
     ]
    }
   ],
   "source": [
    "%%bash\n",
    "which conda  # where the executable conda is in my path?\n",
    "conda -V     # which version of conda?\n",
    "which python # where the executable python is in my path?\n",
    "python -V    # what version of python?"
   ]
  },
  {
   "cell_type": "markdown",
   "id": "a6331b4b",
   "metadata": {},
   "source": [
    "### Create a new env"
   ]
  },
  {
   "cell_type": "markdown",
   "id": "b25f1463",
   "metadata": {},
   "source": [
    "Create a new conda environment named `py39_12` where you specify a python version to be 3.9.12. Note the last flag `--yes` to skip the confirmation prompt."
   ]
  },
  {
   "cell_type": "code",
   "execution_count": 2,
   "id": "212568f0",
   "metadata": {},
   "outputs": [
    {
     "name": "stdout",
     "output_type": "stream",
     "text": [
      "Collecting package metadata (current_repodata.json): done\n",
      "Solving environment: failed with repodata from current_repodata.json, will retry with next repodata source.\n",
      "Collecting package metadata (repodata.json): done\n",
      "Solving environment: done\n",
      "\n",
      "## Package Plan ##\n",
      "\n",
      "  environment location: /home/kidcoconut/miniconda3/envs/py39_12\n",
      "\n",
      "  added / updated specs:\n",
      "    - python=3.9.12\n",
      "\n",
      "\n",
      "The following packages will be downloaded:\n",
      "\n",
      "    package                    |            build\n",
      "    ---------------------------|-----------------\n",
      "    pip-22.2.2                 |   py39h06a4308_0         2.3 MB\n",
      "    python-3.9.12              |       h12debd9_1        19.2 MB\n",
      "    ------------------------------------------------------------\n",
      "                                           Total:        21.5 MB\n",
      "\n",
      "The following NEW packages will be INSTALLED:\n",
      "\n",
      "  _libgcc_mutex      pkgs/main/linux-64::_libgcc_mutex-0.1-main None\n",
      "  _openmp_mutex      pkgs/main/linux-64::_openmp_mutex-5.1-1_gnu None\n",
      "  ca-certificates    pkgs/main/linux-64::ca-certificates-2022.07.19-h06a4308_0 None\n",
      "  certifi            pkgs/main/linux-64::certifi-2022.9.24-py39h06a4308_0 None\n",
      "  ld_impl_linux-64   pkgs/main/linux-64::ld_impl_linux-64-2.38-h1181459_1 None\n",
      "  libffi             pkgs/main/linux-64::libffi-3.3-he6710b0_2 None\n",
      "  libgcc-ng          pkgs/main/linux-64::libgcc-ng-11.2.0-h1234567_1 None\n",
      "  libgomp            pkgs/main/linux-64::libgomp-11.2.0-h1234567_1 None\n",
      "  libstdcxx-ng       pkgs/main/linux-64::libstdcxx-ng-11.2.0-h1234567_1 None\n",
      "  ncurses            pkgs/main/linux-64::ncurses-6.3-h5eee18b_3 None\n",
      "  openssl            pkgs/main/linux-64::openssl-1.1.1q-h7f8727e_0 None\n",
      "  pip                pkgs/main/linux-64::pip-22.2.2-py39h06a4308_0 None\n",
      "  python             pkgs/main/linux-64::python-3.9.12-h12debd9_1 None\n",
      "  readline           pkgs/main/linux-64::readline-8.1.2-h7f8727e_1 None\n",
      "  setuptools         pkgs/main/linux-64::setuptools-63.4.1-py39h06a4308_0 None\n",
      "  sqlite             pkgs/main/linux-64::sqlite-3.39.3-h5082296_0 None\n",
      "  tk                 pkgs/main/linux-64::tk-8.6.12-h1ccaba5_0 None\n",
      "  tzdata             pkgs/main/noarch::tzdata-2022e-h04d1e81_0 None\n",
      "  wheel              pkgs/main/noarch::wheel-0.37.1-pyhd3eb1b0_0 None\n",
      "  xz                 pkgs/main/linux-64::xz-5.2.6-h5eee18b_0 None\n",
      "  zlib               pkgs/main/linux-64::zlib-1.2.12-h5eee18b_3 None\n",
      "\n",
      "\n",
      "\n",
      "Downloading and Extracting Packages\n",
      "python-3.9.12        | 19.2 MB   | ##################################### | 100% \n",
      "pip-22.2.2           | 2.3 MB    | ##################################### | 100% \n",
      "Preparing transaction: done\n",
      "Verifying transaction: done\n",
      "Executing transaction: done\n",
      "#\n",
      "# To activate this environment, use\n",
      "#\n",
      "#     $ conda activate py39_12\n",
      "#\n",
      "# To deactivate an active environment, use\n",
      "#\n",
      "#     $ conda deactivate\n",
      "\n",
      "Retrieving notices: ...working... done\n"
     ]
    }
   ],
   "source": [
    "!conda create --name py39_12 python=3.9.12 --yes"
   ]
  },
  {
   "cell_type": "code",
   "execution_count": 23,
   "id": "d0bd2f20",
   "metadata": {},
   "outputs": [
    {
     "name": "stdout",
     "output_type": "stream",
     "text": [
      "# conda environments:\r\n",
      "#\r\n",
      "                         /home/kidcoconut/anaconda3\r\n",
      "                         /home/kidcoconut/anaconda3/envs/mle-course\r\n",
      "base                     /home/kidcoconut/miniconda3\r\n",
      "py39_12               *  /home/kidcoconut/miniconda3/envs/py39_12\r\n",
      "\r\n"
     ]
    }
   ],
   "source": [
    "# YOU CODE HERE \n",
    "# list all environments in conda\n",
    "!conda info --envs"
   ]
  },
  {
   "cell_type": "markdown",
   "id": "a1efee8c",
   "metadata": {},
   "source": [
    "You shall see something like this:\n",
    "```\n",
    "# conda environments:\n",
    "#\n",
    "                         /Users/flora/miniforge3\n",
    "                         /Users/flora/miniforge3/envs/tf38\n",
    "base                  *  /usr/local/Caskroom/miniforge/base\n",
    "py39                     /usr/local/Caskroom/miniforge/base/envs/py39\n",
    "py39_12                  /usr/local/Caskroom/miniforge/base/envs/py39_12\n",
    "```"
   ]
  },
  {
   "cell_type": "markdown",
   "id": "a669545e",
   "metadata": {},
   "source": [
    "### Activate an env"
   ]
  },
  {
   "cell_type": "markdown",
   "id": "46aefe99",
   "metadata": {},
   "source": [
    "By default, you are under the `base` environment, to activate the new environement, run `conda activate py39_12` in terminal.\n",
    "\n",
    "\n",
    "    #--- 202210_IM:  NOTE that I had to get back into mle-course to launch the jupyter notebook (this)\n",
    "    ~/miniconda3/bin/conda init\n",
    "    conda activate py39_12\n",
    "\n",
    "\n",
    "    #--- 202210_IM:  select the python interpreter in VSCode;  bottom right; in blue bar where it specifies the env and python version, e.g 3.8.2 64-bit.  Note:  changed to 3.9.12('py39_12':conda)\n",
    "\n",
    "\n",
    "\n",
    "If you are using VS code, click on the top right button to switch python kernel. You will be prompted to install `ipykernel`, follow the instructions to install the package. Or you can run `source activate`, followed by \n",
    "`conda activate /usr/local/Caskroom/miniforge/base/envs/py39_12` in a cell. \n",
    "\n",
    "If you are using jupyter notebook on a localhost (by defaut 8888), you can restart the jupyter notebook after activating the new environment.\n",
    "\n",
    "    #--- 202210_IM:  In VSCode I installed jupyter into miniconda; under activated py39_12;  pip install jupyter-core\n",
    "\n",
    "\n",
    "Now verify the python version:"
   ]
  },
  {
   "cell_type": "code",
   "execution_count": 24,
   "id": "265f7506",
   "metadata": {},
   "outputs": [
    {
     "name": "stdout",
     "output_type": "stream",
     "text": [
      "INFO:  Python version ... (expected:  Python 3.9.12)\n",
      "Python 3.9.12\n",
      "\n",
      "INFO:  which python ... (expected:  miniconda)\n",
      "/home/kidcoconut/miniconda3/bin/python\n",
      "\n",
      "INFO:  which conda ... (expected:  miniconda)\n",
      "/home/kidcoconut/miniconda3/bin/conda\n",
      "\n",
      "INFO:  conda env list ...\n",
      "# conda environments:\n",
      "#\n",
      "                         /home/kidcoconut/anaconda3\n",
      "                         /home/kidcoconut/anaconda3/envs/mle-course\n",
      "base                     /home/kidcoconut/miniconda3\n",
      "py39_12               *  /home/kidcoconut/miniconda3/envs/py39_12\n",
      "\n",
      "\n"
     ]
    }
   ],
   "source": [
    "%%bash\n",
    "\n",
    "echo \"INFO:  Python version ... (expected:  Python 3.9.12)\"\n",
    "python --version\n",
    "echo \n",
    "\n",
    "echo \"INFO:  which python ... (expected:  miniconda)\"\n",
    "which python\n",
    "echo\n",
    "\n",
    "echo \"INFO:  which conda ... (expected:  miniconda)\"\n",
    "which conda\n",
    "echo \n",
    "\n",
    "echo \"INFO:  conda env list ...\"\n",
    "conda env list\n",
    "echo\n"
   ]
  },
  {
   "cell_type": "markdown",
   "id": "08985441",
   "metadata": {},
   "source": [
    "<details>\n",
    "<summary>Click to see how to add the Conda env to you jupyter notebook kernels</summary>\n",
    "    \n",
    "    #--- 202210_IM:  very cool;  TODO - look into jupyter metadata and options\n",
    "                     Q:  do I run the below in my Terminal env, as well as in VSCode Terminal env?\n",
    "                        - done in Windows WSL Terminal for py39_12 env\n",
    "                        - done in VSCode Terminal for py39_12 env\n",
    "\n",
    "```\n",
    "pip install ipykernel\n",
    "python -m ipykernel install --user --name=py39_12\n",
    "```\n",
    "\n",
    "Next time you launch jupyter notebook, you will see `py39_12` as an option under Kernel/Change kernel.\n",
    "</details>\n"
   ]
  },
  {
   "cell_type": "markdown",
   "id": "bfc622f5",
   "metadata": {},
   "source": [
    "### Delete an env"
   ]
  },
  {
   "cell_type": "markdown",
   "id": "99ecb107",
   "metadata": {},
   "source": [
    "To keep a lean list of environments, we want to prune unused environements from time to time. Simply do the following\n",
    "```\n",
    "conda remove --name old_env --all --yes\n",
    "```"
   ]
  },
  {
   "cell_type": "markdown",
   "id": "8f3e11d0",
   "metadata": {},
   "source": [
    "## Pip: python package manager"
   ]
  },
  {
   "cell_type": "markdown",
   "id": "6e2dc9e0",
   "metadata": {},
   "source": [
    "We recommend to use pip as your python package installer/manager [(fun read on pip vs conda.)](https://stackoverflow.com/questions/20994716/what-is-the-difference-between-pip-and-conda) Note you don't have install pip explictly since it was done during the installation of miniconda/miniforge. \n",
    "\n",
    "#--- 202210_IM:  to oversimplify ... use pip for python package mgmt; use conda for virtual env mgmt"
   ]
  },
  {
   "cell_type": "code",
   "execution_count": 25,
   "id": "ac8585e9",
   "metadata": {},
   "outputs": [
    {
     "name": "stdout",
     "output_type": "stream",
     "text": [
      "/home/kidcoconut/miniconda3/envs/py39_12/bin/pip\n",
      "\n",
      "pip 22.3 from /home/kidcoconut/miniconda3/envs/py39_12/lib/python3.9/site-packages/pip (python 3.9)\n"
     ]
    }
   ],
   "source": [
    "%%bash\n",
    "\n",
    "which pip       #--- determine which pip binary is being used\n",
    "echo\n",
    "pip --version   #--- determine the active version # for pip\n"
   ]
  },
  {
   "cell_type": "markdown",
   "id": "df4b9751",
   "metadata": {},
   "source": [
    "### Install package"
   ]
  },
  {
   "cell_type": "markdown",
   "id": "8913690d",
   "metadata": {},
   "source": [
    "We can certainly run `pip` commands the same way as earlier. Just for fun, let's try Jupyter line magic `%pip`. \n",
    "\n",
    "First make sure that we would like to have the most recent version of `pip` installed."
   ]
  },
  {
   "cell_type": "code",
   "execution_count": 26,
   "id": "f10cab48",
   "metadata": {
    "scrolled": true
   },
   "outputs": [
    {
     "name": "stdout",
     "output_type": "stream",
     "text": [
      "Requirement already satisfied: pip in /home/kidcoconut/miniconda3/envs/py39_12/lib/python3.9/site-packages (22.3)\n",
      "Note: you may need to restart the kernel to use updated packages.\n"
     ]
    }
   ],
   "source": [
    "%pip install --upgrade pip"
   ]
  },
  {
   "cell_type": "code",
   "execution_count": 27,
   "id": "6f5a19b8",
   "metadata": {},
   "outputs": [
    {
     "name": "stdout",
     "output_type": "stream",
     "text": [
      "Requirement already satisfied: numpy in /home/kidcoconut/miniconda3/envs/py39_12/lib/python3.9/site-packages (1.23.4)\n",
      "Requirement already satisfied: pandas in /home/kidcoconut/miniconda3/envs/py39_12/lib/python3.9/site-packages (1.5.1)\n",
      "Requirement already satisfied: pytz>=2020.1 in /home/kidcoconut/miniconda3/envs/py39_12/lib/python3.9/site-packages (from pandas) (2022.1)\n",
      "Requirement already satisfied: python-dateutil>=2.8.1 in /home/kidcoconut/miniconda3/envs/py39_12/lib/python3.9/site-packages (from pandas) (2.8.2)\n",
      "Requirement already satisfied: six>=1.5 in /home/kidcoconut/miniconda3/envs/py39_12/lib/python3.9/site-packages (from python-dateutil>=2.8.1->pandas) (1.16.0)\n",
      "Note: you may need to restart the kernel to use updated packages.\n"
     ]
    }
   ],
   "source": [
    "%pip install numpy pandas"
   ]
  },
  {
   "cell_type": "markdown",
   "id": "b23b1338",
   "metadata": {},
   "source": [
    "Now you can use these packages:"
   ]
  },
  {
   "cell_type": "code",
   "execution_count": 28,
   "id": "5e863b17",
   "metadata": {},
   "outputs": [],
   "source": [
    "# allow multiple outputs in a single cell\n",
    "from IPython.core.interactiveshell import InteractiveShell\n",
    "InteractiveShell.ast_node_interactivity = \"all\""
   ]
  },
  {
   "cell_type": "code",
   "execution_count": 29,
   "id": "24c15587",
   "metadata": {},
   "outputs": [
    {
     "name": "stdout",
     "output_type": "stream",
     "text": [
      "INFO:  create array and initialize ...\n",
      "INFO:  output the array dims ...\n"
     ]
    },
    {
     "data": {
      "text/plain": [
       "(10,)"
      ]
     },
     "execution_count": 29,
     "metadata": {},
     "output_type": "execute_result"
    },
    {
     "name": "stdout",
     "output_type": "stream",
     "text": [
      "INFO:  re-shape; re-dim the array to 5 rows\n"
     ]
    },
    {
     "data": {
      "text/plain": [
       "array([[0.59943858, 0.42000102],\n",
       "       [0.24039002, 0.21928006],\n",
       "       [0.5218054 , 0.9342311 ],\n",
       "       [0.47931219, 0.273564  ],\n",
       "       [0.59309076, 0.91393576]])"
      ]
     },
     "execution_count": 29,
     "metadata": {},
     "output_type": "execute_result"
    }
   ],
   "source": [
    "import numpy as libNumpy\n",
    "\n",
    "#--- create a numpy array and fill with random nums\n",
    "print(\"INFO:  create array and initialize ...\")\n",
    "aryTemp = libNumpy.random.rand(10)     #--- create a random array with 10 elements\n",
    "\n",
    "print(\"INFO:  output the array dims ...\")\n",
    "aryTemp.shape                          #--- output the array dims;  ie 10x0\n",
    "\n",
    "print(\"INFO:  re-shape; re-dim the array to 5 rows\")\n",
    "aryTemp.reshape((5,-1))                #--- redim with 5rows;  auto-fit the cols? same as (5,2)\n"
   ]
  },
  {
   "cell_type": "code",
   "execution_count": 30,
   "id": "45bb2427",
   "metadata": {},
   "outputs": [
    {
     "data": {
      "text/plain": [
       "'%.3f'"
      ]
     },
     "execution_count": 30,
     "metadata": {},
     "output_type": "execute_result"
    },
    {
     "data": {
      "text/plain": [
       "array([[0.599, 0.42 ],\n",
       "       [0.24 , 0.219],\n",
       "       [0.522, 0.934],\n",
       "       [0.479, 0.274],\n",
       "       [0.593, 0.914]])"
      ]
     },
     "execution_count": 30,
     "metadata": {},
     "output_type": "execute_result"
    }
   ],
   "source": [
    "#--- adjust the precision of values to 3 decimals\n",
    "%precision 3\n",
    "\n",
    "#--- update the array \n",
    "aryTemp.reshape((5,-1))"
   ]
  },
  {
   "cell_type": "code",
   "execution_count": 32,
   "id": "f0c3f822",
   "metadata": {},
   "outputs": [
    {
     "name": "stdout",
     "output_type": "stream",
     "text": [
      "/home/kidcoconut/myLurnins/fourthbrain.ai/code/MLE-10/assignments/week-01-mle-basictools\r\n"
     ]
    }
   ],
   "source": [
    "#--- 202210_IM:  ensure we are in the correct working dir;  expected:  ~/myLurnins/fourthbrain.ai/code/MLE-10/assignments/week-01-mle-basictools\n",
    "!pwd\n",
    "#%cd ~/myLurnins/fourthbrain.ai/code/whodunnit\n"
   ]
  },
  {
   "cell_type": "code",
   "execution_count": 33,
   "id": "2a8040a4",
   "metadata": {},
   "outputs": [
    {
     "data": {
      "text/html": [
       "<div>\n",
       "<style scoped>\n",
       "    .dataframe tbody tr th:only-of-type {\n",
       "        vertical-align: middle;\n",
       "    }\n",
       "\n",
       "    .dataframe tbody tr th {\n",
       "        vertical-align: top;\n",
       "    }\n",
       "\n",
       "    .dataframe thead th {\n",
       "        text-align: right;\n",
       "    }\n",
       "</style>\n",
       "<table border=\"1\" class=\"dataframe\">\n",
       "  <thead>\n",
       "    <tr style=\"text-align: right;\">\n",
       "      <th></th>\n",
       "      <th>0</th>\n",
       "      <th>1</th>\n",
       "      <th>2</th>\n",
       "      <th>3</th>\n",
       "      <th>4</th>\n",
       "      <th>5</th>\n",
       "      <th>6</th>\n",
       "      <th>7</th>\n",
       "      <th>8</th>\n",
       "      <th>9</th>\n",
       "      <th>10</th>\n",
       "      <th>11</th>\n",
       "      <th>12</th>\n",
       "      <th>13</th>\n",
       "      <th>14</th>\n",
       "    </tr>\n",
       "  </thead>\n",
       "  <tbody>\n",
       "    <tr>\n",
       "      <th>0</th>\n",
       "      <td>39</td>\n",
       "      <td>State-gov</td>\n",
       "      <td>77516</td>\n",
       "      <td>Bachelors</td>\n",
       "      <td>13</td>\n",
       "      <td>Never-married</td>\n",
       "      <td>Adm-clerical</td>\n",
       "      <td>Not-in-family</td>\n",
       "      <td>White</td>\n",
       "      <td>Male</td>\n",
       "      <td>2174</td>\n",
       "      <td>0</td>\n",
       "      <td>40</td>\n",
       "      <td>United-States</td>\n",
       "      <td>&lt;=50K</td>\n",
       "    </tr>\n",
       "    <tr>\n",
       "      <th>1</th>\n",
       "      <td>50</td>\n",
       "      <td>Self-emp-not-inc</td>\n",
       "      <td>83311</td>\n",
       "      <td>Bachelors</td>\n",
       "      <td>13</td>\n",
       "      <td>Married-civ-spouse</td>\n",
       "      <td>Exec-managerial</td>\n",
       "      <td>Husband</td>\n",
       "      <td>White</td>\n",
       "      <td>Male</td>\n",
       "      <td>0</td>\n",
       "      <td>0</td>\n",
       "      <td>13</td>\n",
       "      <td>United-States</td>\n",
       "      <td>&lt;=50K</td>\n",
       "    </tr>\n",
       "    <tr>\n",
       "      <th>2</th>\n",
       "      <td>38</td>\n",
       "      <td>Private</td>\n",
       "      <td>215646</td>\n",
       "      <td>HS-grad</td>\n",
       "      <td>9</td>\n",
       "      <td>Divorced</td>\n",
       "      <td>Handlers-cleaners</td>\n",
       "      <td>Not-in-family</td>\n",
       "      <td>White</td>\n",
       "      <td>Male</td>\n",
       "      <td>0</td>\n",
       "      <td>0</td>\n",
       "      <td>40</td>\n",
       "      <td>United-States</td>\n",
       "      <td>&lt;=50K</td>\n",
       "    </tr>\n",
       "    <tr>\n",
       "      <th>3</th>\n",
       "      <td>53</td>\n",
       "      <td>Private</td>\n",
       "      <td>234721</td>\n",
       "      <td>11th</td>\n",
       "      <td>7</td>\n",
       "      <td>Married-civ-spouse</td>\n",
       "      <td>Handlers-cleaners</td>\n",
       "      <td>Husband</td>\n",
       "      <td>Black</td>\n",
       "      <td>Male</td>\n",
       "      <td>0</td>\n",
       "      <td>0</td>\n",
       "      <td>40</td>\n",
       "      <td>United-States</td>\n",
       "      <td>&lt;=50K</td>\n",
       "    </tr>\n",
       "    <tr>\n",
       "      <th>4</th>\n",
       "      <td>28</td>\n",
       "      <td>Private</td>\n",
       "      <td>338409</td>\n",
       "      <td>Bachelors</td>\n",
       "      <td>13</td>\n",
       "      <td>Married-civ-spouse</td>\n",
       "      <td>Prof-specialty</td>\n",
       "      <td>Wife</td>\n",
       "      <td>Black</td>\n",
       "      <td>Female</td>\n",
       "      <td>0</td>\n",
       "      <td>0</td>\n",
       "      <td>40</td>\n",
       "      <td>Cuba</td>\n",
       "      <td>&lt;=50K</td>\n",
       "    </tr>\n",
       "  </tbody>\n",
       "</table>\n",
       "</div>"
      ],
      "text/plain": [
       "   0                  1       2           3   4                    5   \\\n",
       "0  39          State-gov   77516   Bachelors  13        Never-married   \n",
       "1  50   Self-emp-not-inc   83311   Bachelors  13   Married-civ-spouse   \n",
       "2  38            Private  215646     HS-grad   9             Divorced   \n",
       "3  53            Private  234721        11th   7   Married-civ-spouse   \n",
       "4  28            Private  338409   Bachelors  13   Married-civ-spouse   \n",
       "\n",
       "                   6               7       8        9     10  11  12  \\\n",
       "0        Adm-clerical   Not-in-family   White     Male  2174   0  40   \n",
       "1     Exec-managerial         Husband   White     Male     0   0  13   \n",
       "2   Handlers-cleaners   Not-in-family   White     Male     0   0  40   \n",
       "3   Handlers-cleaners         Husband   Black     Male     0   0  40   \n",
       "4      Prof-specialty            Wife   Black   Female     0   0  40   \n",
       "\n",
       "               13      14  \n",
       "0   United-States   <=50K  \n",
       "1   United-States   <=50K  \n",
       "2   United-States   <=50K  \n",
       "3   United-States   <=50K  \n",
       "4            Cuba   <=50K  "
      ]
     },
     "execution_count": 33,
     "metadata": {},
     "output_type": "execute_result"
    },
    {
     "data": {
      "text/html": [
       "<div>\n",
       "<style scoped>\n",
       "    .dataframe tbody tr th:only-of-type {\n",
       "        vertical-align: middle;\n",
       "    }\n",
       "\n",
       "    .dataframe tbody tr th {\n",
       "        vertical-align: top;\n",
       "    }\n",
       "\n",
       "    .dataframe thead th {\n",
       "        text-align: right;\n",
       "    }\n",
       "</style>\n",
       "<table border=\"1\" class=\"dataframe\">\n",
       "  <thead>\n",
       "    <tr style=\"text-align: right;\">\n",
       "      <th></th>\n",
       "      <th>0</th>\n",
       "      <th>1</th>\n",
       "      <th>2</th>\n",
       "      <th>3</th>\n",
       "      <th>4</th>\n",
       "      <th>5</th>\n",
       "      <th>6</th>\n",
       "      <th>7</th>\n",
       "      <th>8</th>\n",
       "      <th>9</th>\n",
       "      <th>10</th>\n",
       "      <th>11</th>\n",
       "      <th>12</th>\n",
       "      <th>13</th>\n",
       "      <th>14</th>\n",
       "    </tr>\n",
       "  </thead>\n",
       "  <tbody>\n",
       "    <tr>\n",
       "      <th>32556</th>\n",
       "      <td>27</td>\n",
       "      <td>Private</td>\n",
       "      <td>257302</td>\n",
       "      <td>Assoc-acdm</td>\n",
       "      <td>12</td>\n",
       "      <td>Married-civ-spouse</td>\n",
       "      <td>Tech-support</td>\n",
       "      <td>Wife</td>\n",
       "      <td>White</td>\n",
       "      <td>Female</td>\n",
       "      <td>0</td>\n",
       "      <td>0</td>\n",
       "      <td>38</td>\n",
       "      <td>United-States</td>\n",
       "      <td>&lt;=50K</td>\n",
       "    </tr>\n",
       "    <tr>\n",
       "      <th>32557</th>\n",
       "      <td>40</td>\n",
       "      <td>Private</td>\n",
       "      <td>154374</td>\n",
       "      <td>HS-grad</td>\n",
       "      <td>9</td>\n",
       "      <td>Married-civ-spouse</td>\n",
       "      <td>Machine-op-inspct</td>\n",
       "      <td>Husband</td>\n",
       "      <td>White</td>\n",
       "      <td>Male</td>\n",
       "      <td>0</td>\n",
       "      <td>0</td>\n",
       "      <td>40</td>\n",
       "      <td>United-States</td>\n",
       "      <td>&gt;50K</td>\n",
       "    </tr>\n",
       "    <tr>\n",
       "      <th>32558</th>\n",
       "      <td>58</td>\n",
       "      <td>Private</td>\n",
       "      <td>151910</td>\n",
       "      <td>HS-grad</td>\n",
       "      <td>9</td>\n",
       "      <td>Widowed</td>\n",
       "      <td>Adm-clerical</td>\n",
       "      <td>Unmarried</td>\n",
       "      <td>White</td>\n",
       "      <td>Female</td>\n",
       "      <td>0</td>\n",
       "      <td>0</td>\n",
       "      <td>40</td>\n",
       "      <td>United-States</td>\n",
       "      <td>&lt;=50K</td>\n",
       "    </tr>\n",
       "    <tr>\n",
       "      <th>32559</th>\n",
       "      <td>22</td>\n",
       "      <td>Private</td>\n",
       "      <td>201490</td>\n",
       "      <td>HS-grad</td>\n",
       "      <td>9</td>\n",
       "      <td>Never-married</td>\n",
       "      <td>Adm-clerical</td>\n",
       "      <td>Own-child</td>\n",
       "      <td>White</td>\n",
       "      <td>Male</td>\n",
       "      <td>0</td>\n",
       "      <td>0</td>\n",
       "      <td>20</td>\n",
       "      <td>United-States</td>\n",
       "      <td>&lt;=50K</td>\n",
       "    </tr>\n",
       "    <tr>\n",
       "      <th>32560</th>\n",
       "      <td>52</td>\n",
       "      <td>Self-emp-inc</td>\n",
       "      <td>287927</td>\n",
       "      <td>HS-grad</td>\n",
       "      <td>9</td>\n",
       "      <td>Married-civ-spouse</td>\n",
       "      <td>Exec-managerial</td>\n",
       "      <td>Wife</td>\n",
       "      <td>White</td>\n",
       "      <td>Female</td>\n",
       "      <td>15024</td>\n",
       "      <td>0</td>\n",
       "      <td>40</td>\n",
       "      <td>United-States</td>\n",
       "      <td>&gt;50K</td>\n",
       "    </tr>\n",
       "  </tbody>\n",
       "</table>\n",
       "</div>"
      ],
      "text/plain": [
       "       0              1       2            3   4                    5   \\\n",
       "32556  27        Private  257302   Assoc-acdm  12   Married-civ-spouse   \n",
       "32557  40        Private  154374      HS-grad   9   Married-civ-spouse   \n",
       "32558  58        Private  151910      HS-grad   9              Widowed   \n",
       "32559  22        Private  201490      HS-grad   9        Never-married   \n",
       "32560  52   Self-emp-inc  287927      HS-grad   9   Married-civ-spouse   \n",
       "\n",
       "                       6           7       8        9      10  11  12  \\\n",
       "32556        Tech-support        Wife   White   Female      0   0  38   \n",
       "32557   Machine-op-inspct     Husband   White     Male      0   0  40   \n",
       "32558        Adm-clerical   Unmarried   White   Female      0   0  40   \n",
       "32559        Adm-clerical   Own-child   White     Male      0   0  20   \n",
       "32560     Exec-managerial        Wife   White   Female  15024   0  40   \n",
       "\n",
       "                   13      14  \n",
       "32556   United-States   <=50K  \n",
       "32557   United-States    >50K  \n",
       "32558   United-States   <=50K  \n",
       "32559   United-States   <=50K  \n",
       "32560   United-States    >50K  "
      ]
     },
     "execution_count": 33,
     "metadata": {},
     "output_type": "execute_result"
    },
    {
     "data": {
      "text/plain": [
       "(32561, 15)"
      ]
     },
     "execution_count": 33,
     "metadata": {},
     "output_type": "execute_result"
    }
   ],
   "source": [
    "#--- dataframe creation and manipulation exercise\n",
    "import pandas as libPandas\n",
    "strFilPath = './dat/adult.csv'\n",
    "dtfCensus = libPandas.read_csv(filepath_or_buffer=strFilPath, header = None)\n",
    "dtfCensus.head()                 #--- output the first x rows of the dataframe\n",
    "dtfCensus.tail()                 #--- output the last y rows of the dataframe\n",
    "dtfCensus.shape                  #--- output the dimension of the dataframe (32561, 15)\n"
   ]
  },
  {
   "cell_type": "markdown",
   "id": "d99563f1",
   "metadata": {},
   "source": [
    "### Uninstall packages"
   ]
  },
  {
   "cell_type": "code",
   "execution_count": 2,
   "id": "cd13cba4",
   "metadata": {},
   "outputs": [
    {
     "name": "stdout",
     "output_type": "stream",
     "text": [
      "Found existing installation: numpy 1.23.4\n",
      "Uninstalling numpy-1.23.4:\n",
      "  Successfully uninstalled numpy-1.23.4\n",
      "Found existing installation: pandas 1.5.1\n",
      "Uninstalling pandas-1.5.1:\n",
      "  Successfully uninstalled pandas-1.5.1\n",
      "Note: you may need to restart the kernel to use updated packages.\n"
     ]
    }
   ],
   "source": [
    "# Uninstall a package\n",
    "%pip uninstall numpy pandas --yes"
   ]
  },
  {
   "cell_type": "code",
   "execution_count": 3,
   "id": "3dba9166",
   "metadata": {},
   "outputs": [
    {
     "name": "stdout",
     "output_type": "stream",
     "text": [
      "Files removed: 173\n",
      "Note: you may need to restart the kernel to use updated packages.\n"
     ]
    }
   ],
   "source": [
    "%pip cache purge"
   ]
  }
 ],
 "metadata": {
  "celltoolbar": "Edit Metadata",
  "interpreter": {
   "hash": "5927eeb448d79922bc8ff2e0b29f33a28322850e36c32320028d81390f797ebb"
  },
  "kernelspec": {
   "display_name": "py39_12",
   "language": "python",
   "name": "py39_12"
  },
  "language_info": {
   "codemirror_mode": {
    "name": "ipython",
    "version": 3
   },
   "file_extension": ".py",
   "mimetype": "text/x-python",
   "name": "python",
   "nbconvert_exporter": "python",
   "pygments_lexer": "ipython3",
   "version": "3.9.12"
  },
  "toc": {
   "base_numbering": 1,
   "nav_menu": {},
   "number_sections": true,
   "sideBar": true,
   "skip_h1_title": false,
   "title_cell": "Table of Contents",
   "title_sidebar": "Contents",
   "toc_cell": false,
   "toc_position": {},
   "toc_section_display": true,
   "toc_window_display": true
  }
 },
 "nbformat": 4,
 "nbformat_minor": 5
}
